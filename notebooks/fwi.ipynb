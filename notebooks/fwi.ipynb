{
 "cells": [
  {
   "cell_type": "markdown",
   "metadata": {},
   "source": [
    "# Distributed FWI with Devito using Tensorflow and Dask"
   ]
  },
  {
   "cell_type": "markdown",
   "metadata": {},
   "source": [
    "## Inversion Computational Setup"
   ]
  },
  {
   "cell_type": "markdown",
   "metadata": {},
   "source": [
    "### Setting up (synthetic) data"
   ]
  },
  {
   "cell_type": "code",
   "execution_count": 1,
   "metadata": {
    "collapsed": true
   },
   "outputs": [],
   "source": [
    "import cloudpickle as pickle\n",
    "from examples.seismic import TimeAxis, RickerSource, Receiver\n",
    "from examples.seismic.acoustic import AcousticWaveSolver\n",
    "\n",
    "saved_true_model_file = \"true_model.npy\"\n",
    "saved_smooth_model_file = \"smooth_model.npy\"\n",
    "saved_shot_data_file_prefix = \"shot\"\n",
    "\n",
    "\n",
    "def dump_model(model, file_name):\n",
    "    with open(file_name, 'wb') as f:\n",
    "        pickle.dump(model, f)\n",
    "\n",
    "\n",
    "def get_model(file_name):\n",
    "    with open(file_name, \"rb\") as f:\n",
    "        return pickle.load(f)\n",
    "        \n",
    "\n",
    "def dump_shot_data(shot_id, src, true_data):\n",
    "    with open('{}_{}'.format(saved_shot_data_file_prefix, shot_id), 'wb') as f:\n",
    "        pickle.dump({'src': src, 'rec': true_data}, f)\n",
    "\n",
    "\n",
    "def load_shot_data(shot_id, dt):\n",
    "    shot_data = pickle.load(open('{}_{}'.format(saved_shot_data_file_prefix, shot_id), 'rb'))\n",
    "    shot_data['src'] = shot_data['src'].resample(dt)\n",
    "    shot_data['rec'] = shot_data['rec'].resample(dt)\n",
    "    return shot_data\n",
    "\n",
    "\n",
    "def generate_shot_data(t0, tn, f0, shots, receivers, client):\n",
    "    params = [t0, tn, f0, shots, receivers]\n",
    "    work = [params + [shot_id] for shot_id in range(shots)]\n",
    "\n",
    "    fgi = [client.submit(generate_shot_data_i, *job) for job in work]\n",
    "\n",
    "    wait(fgi)\n",
    "\n",
    "\n",
    "def generate_shot_data_i(t0, tn, f0, shots, receivers, shot_id):\n",
    "    true_model = get_model(saved_true_model_file)\n",
    "\n",
    "    # Time step from model grid spacing\n",
    "    dt = true_model.critical_dt\n",
    "\n",
    "    # Acquisitional Geometry\n",
    "    time_range = TimeAxis(start=t0, stop=tn, step=dt)\n",
    "    src = RickerSource(name=\"src\", grid=true_model.grid, f0=f0,\n",
    "                       time_range=time_range)\n",
    "    \n",
    "    src.coordinates.data[0, :] = [30, shot_id*1000./(shots-1)]\n",
    "    \n",
    "    rec = Receiver(name=\"rec\", grid=true_model.grid, time_range=time_range,\n",
    "                   npoint=receivers)\n",
    "    rec.coordinates.data[:, 1] = np.linspace(0, true_model.domain_size[0],\n",
    "                                             num=receivers)\n",
    "    rec.coordinates.data[:, 0] = 980.  # 20m from the right end\n",
    "\n",
    "    # set up solver\n",
    "    solver = AcousticWaveSolver(true_model, src, rec, space_order=4)\n",
    "\n",
    "    # generate synthetic receiver data from true model\n",
    "    true_data, _, _ = solver.forward(src=src, m=true_model.m)\n",
    "\n",
    "    dump_shot_data(shot_id, src, true_data)"
   ]
  },
  {
   "cell_type": "markdown",
   "metadata": {},
   "source": [
    "### Computational Consideration"
   ]
  },
  {
   "cell_type": "code",
   "execution_count": 2,
   "metadata": {
    "collapsed": true
   },
   "outputs": [],
   "source": [
    "shape = (101, 101)\n",
    "spacing = (10., 10.)\n",
    "origin = (0., 0.)\n",
    "\n",
    "shots = 9\n",
    "receivers = 101\n",
    "epochs = 5\n",
    "\n",
    "# dask workers\n",
    "workers = 2\n",
    "\n",
    "t0 = 0.\n",
    "tn = 1000.\n",
    "f0 = 0.01"
   ]
  },
  {
   "cell_type": "markdown",
   "metadata": {},
   "source": [
    "### True and Smooth Models"
   ]
  },
  {
   "cell_type": "code",
   "execution_count": 3,
   "metadata": {
    "collapsed": true
   },
   "outputs": [],
   "source": [
    "from examples.seismic import demo_model, plot_velocity, plot_perturbation\n",
    "from devito import configuration\n",
    "from distributed import Client, LocalCluster, wait\n",
    "\n",
    "configuration['log_level'] = 'WARNING'\n",
    "\n",
    "true_model = demo_model('circle-isotropic', vp=3.0, vp_background=2.5,\n",
    "                        origin=origin, shape=shape, spacing=spacing, nbpml=40)\n",
    "\n",
    "smooth_model = demo_model('circle-isotropic', vp=2.5, vp_background=2.5,\n",
    "                          origin=origin, shape=shape, spacing=spacing, nbpml=40)"
   ]
  },
  {
   "cell_type": "markdown",
   "metadata": {},
   "source": [
    "## Dask Specifics"
   ]
  },
  {
   "cell_type": "code",
   "execution_count": 4,
   "metadata": {
    "collapsed": true
   },
   "outputs": [],
   "source": [
    "class fg_pair:\n",
    "    def __init__(self, f, g):\n",
    "        self.f = f\n",
    "        self.g = g\n",
    "\n",
    "    def __add__(self, other):\n",
    "        f = self.f + other.f\n",
    "        g = self.g + other.g\n",
    "        return fg_pair(f, g)\n",
    "\n",
    "    def __radd__(self, other):\n",
    "        if other == 0:\n",
    "            return self\n",
    "        else:\n",
    "            return self.__add__(other)"
   ]
  },
  {
   "cell_type": "markdown",
   "metadata": {},
   "source": [
    "## Operators for gradient based inversion"
   ]
  },
  {
   "cell_type": "code",
   "execution_count": 5,
   "metadata": {
    "collapsed": true
   },
   "outputs": [],
   "source": [
    "from devito import Function\n",
    "\n",
    "def fwi_gradient_i(shot_id):\n",
    "    from devito import clear_cache\n",
    "    \n",
    "    clear_cache()\n",
    "\n",
    "    smooth_model = get_model(saved_smooth_model_file)\n",
    "\n",
    "    params = load_shot_data(shot_id, smooth_model.critical_dt)\n",
    "    src = params['src']\n",
    "    rec = params['rec']\n",
    "    \n",
    "    solver = AcousticWaveSolver(smooth_model, src, rec, space_order=4)\n",
    "\n",
    "    smooth_data, u0, _ = solver.forward(src=src, m=smooth_model.m, save=True)\n",
    "\n",
    "    residual = Receiver(name='rec', grid=smooth_model.grid,\n",
    "                        time_range=rec.time_range,\n",
    "                        coordinates=rec.coordinates.data)\n",
    "\n",
    "    residual.data[:] = smooth_data.data[:] - rec.data[:]\n",
    "\n",
    "    f = .5*np.linalg.norm(residual.data.flatten())**2\n",
    "\n",
    "    grad = Function(name=\"grad\", grid=smooth_model.grid)\n",
    "    solver.gradient(rec=residual, u=u0, m=smooth_model.m, grad=grad)\n",
    "\n",
    "    g = np.array(grad.data[:])\n",
    "\n",
    "    return fg_pair(f, g)"
   ]
  },
  {
   "cell_type": "code",
   "execution_count": 6,
   "metadata": {
    "collapsed": true
   },
   "outputs": [],
   "source": [
    "def fwi_gradient(client, smooth_model, shots):\n",
    "    dump_model(smooth_model, saved_smooth_model_file)\n",
    "\n",
    "    # Distribute job to workers - equivalent to the use of client.map(..)\n",
    "    fgi = [client.submit(fwi_gradient_i, shot_id) for shot_id in range(shots)]\n",
    "\n",
    "    # Distribute worklist to workers\n",
    "    total = client.submit(sum, fgi)\n",
    "    fg = total.result()\n",
    "\n",
    "    return fg.f, fg.g"
   ]
  },
  {
   "cell_type": "markdown",
   "metadata": {},
   "source": [
    "## FWI with Tensorflow"
   ]
  },
  {
   "cell_type": "code",
   "execution_count": 7,
   "metadata": {
    "collapsed": true
   },
   "outputs": [],
   "source": [
    "import tensorflow as tf\n",
    "import numpy as np\n",
    "import functools as ft\n",
    "from dask.distributed import Client, LocalCluster, wait\n",
    "from dask_kubernetes import KubeCluster, make_pod_spec\n",
    "\n",
    "class TF_Devito_Fwi:\n",
    "\n",
    "    def __init__(self, nshots, nreceivers, true_model, smooth_model,\n",
    "                 t0, tn, f0, optimizer_func, hparams, workers=2):\n",
    "        # True and Smooth velocity models\n",
    "        dump_model(true_model, saved_true_model_file)\n",
    "        self.smooth_model = smooth_model\n",
    "        true_data = true_model.m.data\n",
    "        \n",
    "        # Cluster setup\n",
    "        cluster = LocalCluster(n_workers=workers, death_timeout=600)\n",
    "        # cluster = KubeCluster.from_yaml('./pod_config.yaml')\n",
    "        # cluster.adapt()\n",
    "        client = Client(cluster)\n",
    "        fwi_gradient_call = ft.partial(fwi_gradient, client, smooth_model, nshots)\n",
    "\n",
    "        generate_shot_data(t0, tn, f0, nshots, nreceivers, client)\n",
    "\n",
    "        # Create the tf graph\n",
    "        self.smooth_data = tf.Variable(self.smooth_model.m.data)\n",
    "        f, g = tf.py_func(fwi_gradient_call, [], [tf.float64, tf.float32])\n",
    "        if 'learning_rate' in list(hparams.keys()):\n",
    "            alpha = hparams['learning_rate']\n",
    "        else: \n",
    "            alpha = 0.005 / tf.reduce_max(g)\n",
    "        optimizer = optimizer_func(alpha, **hparams)\n",
    "        \n",
    "        self.train_op = optimizer.apply_gradients([(g, self.smooth_data)])\n",
    "        \n",
    "        self.relative_error = tf.norm((self.smooth_data-true_data)/true_data)\n",
    "        \n",
    "        self.sess = tf.Session()\n",
    "        self.sess.run(tf.global_variables_initializer())    \n",
    "        \n",
    "    def train(self, epochs):\n",
    "        for i in range(0, epochs):\n",
    "            _, re = self.sess.run([self.train_op, self.relative_error])\n",
    "            yield re\n",
    "        self.smooth_model.m.data[:] = self.smooth_data.eval(session=self.sess)"
   ]
  },
  {
   "cell_type": "markdown",
   "metadata": {},
   "source": [
    "### Initialise FWI process"
   ]
  },
  {
   "cell_type": "code",
   "execution_count": 8,
   "metadata": {},
   "outputs": [
    {
     "name": "stderr",
     "output_type": "stream",
     "text": [
      "/Users/rajatrasal/anaconda3/envs/TF_Devito_FWI/lib/python3.6/site-packages/distributed/bokeh/core.py:55: UserWarning: \n",
      "Port 8787 is already in use. \n",
      "Perhaps you already have a cluster running?\n",
      "Hosting the diagnostics dashboard on a random port instead.\n",
      "  warnings.warn('\\n' + msg)\n"
     ]
    },
    {
     "name": "stdout",
     "output_type": "stream",
     "text": [
      "Epoch: 0, Relative Losses: 11.773591041564941\n",
      "Epoch: 1, Relative Losses: 11.773747444152832\n",
      "Epoch: 2, Relative Losses: 11.7743501663208\n",
      "Epoch: 3, Relative Losses: 11.775471687316895\n",
      "Epoch: 4, Relative Losses: 11.77712631225586\n"
     ]
    }
   ],
   "source": [
    "optimizer = tf.train.MomentumOptimizer\n",
    "\n",
    "hparam = {'momentum': 0.4, 'use_nesterov': True}\n",
    "\n",
    "fwi = TF_Devito_Fwi(shots, receivers, true_model, smooth_model,\n",
    "                    t0, tn, f0, optimizer, hparam, workers)\n",
    "\n",
    "relative_losses = np.zeros((epochs, 1))\n",
    "\n",
    "for i, rl in enumerate(fwi.train(epochs)):\n",
    "    print(\"Epoch: {}, Relative Losses: {}\".format(i, rl))\n",
    "    relative_losses[i] = rl"
   ]
  },
  {
   "cell_type": "code",
   "execution_count": 9,
   "metadata": {},
   "outputs": [
    {
     "data": {
      "image/png": "[encoded data removed]",
      "text/plain": [
       "<Figure size 432x288 with 2 Axes>"
      ]
     },
     "metadata": {
      "needs_background": "light"
     },
     "output_type": "display_data"
    }
   ],
   "source": [
    "nbpml = true_model.nbpml\n",
    "smooth_model.vp = np.sqrt(1. / smooth_model.m.data[nbpml:-nbpml, nbpml:-nbpml])\n",
    "\n",
    "plot_velocity(smooth_model)"
   ]
  },
  {
   "cell_type": "code",
   "execution_count": 10,
   "metadata": {},
   "outputs": [
    {
     "data": {
      "image/png": "[encoded data removed]",
      "text/plain": [
       "<Figure size 432x288 with 1 Axes>"
      ]
     },
     "metadata": {
      "needs_background": "light"
     },
     "output_type": "display_data"
    }
   ],
   "source": [
    "#NBVAL_SKIP\n",
    "import matplotlib.pyplot as plt\n",
    "\n",
    "# Plot objective function decrease\n",
    "plt.figure()\n",
    "plt.loglog(relative_losses)\n",
    "plt.xlabel('Iteration number')\n",
    "plt.ylabel('True relative error')\n",
    "plt.title('Convergence')\n",
    "plt.show()"
   ]
  }
 ],
 "metadata": {
  "kernelspec": {
   "display_name": "Python [conda env:TF_Devito_FWI]",
   "language": "python",
   "name": "conda-env-TF_Devito_FWI-py"
  },
  "language_info": {
   "codemirror_mode": {
    "name": "ipython",
    "version": 3
   },
   "file_extension": ".py",
   "mimetype": "text/x-python",
   "name": "python",
   "nbconvert_exporter": "python",
   "pygments_lexer": "ipython3",
   "version": "3.6.6"
  }
 },
 "nbformat": 4,
 "nbformat_minor": 2
}
