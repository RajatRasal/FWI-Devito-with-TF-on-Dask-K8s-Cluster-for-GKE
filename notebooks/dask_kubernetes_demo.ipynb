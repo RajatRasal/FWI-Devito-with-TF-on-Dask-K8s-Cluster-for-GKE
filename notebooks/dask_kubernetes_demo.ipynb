{
 "cells": [
  {
   "cell_type": "code",
   "execution_count": null,
   "metadata": {
    "collapsed": true
   },
   "outputs": [],
   "source": [
    "import socket\n",
    "scheduler_ip = socket.gethostbyname(socket.gethostname())\n",
    "scheduler_port = 30000\n",
    "scheduler_address = str(scheduler_ip) + \":\" + str(scheduler_port)\n",
    "scheduler_address"
   ]
  },
  {
   "cell_type": "code",
   "execution_count": 8,
   "metadata": {
    "collapsed": true
   },
   "outputs": [],
   "source": [
    "from dask_kubernetes import KubeCluster"
   ]
  },
  {
   "cell_type": "code",
   "execution_count": null,
   "metadata": {},
   "outputs": [],
   "source": [
    "# %load config/worker.yaml\n",
    "kind: Pod\n",
    "metadata:\n",
    "  labels:\n",
    "    role: worker\n",
    "spec:\n",
    "  restartPolicy: Never\n",
    "  containers:\n",
    "  - image: daskdev/dask:latest\n",
    "    imagePullPolicy: Always\n",
    "    args: [dask-worker, $(DASK_SCHEDULER_ADDRESS), --nthreads, '1', --no-bokeh, --memory-limit, 2GB, --death-timeout, '60']\n",
    "    name: dask-worker\n",
    "    resources:\n",
    "      requests:\n",
    "        cpu: \"1\"\n",
    "        memory: 2G\n",
    "      limits:\n",
    "        cpu: \"1\"\n",
    "        memory: 2G\n"
   ]
  },
  {
   "cell_type": "code",
   "execution_count": null,
   "metadata": {
    "collapsed": true
   },
   "outputs": [],
   "source": [
    "cluster = KubeCluster.from_yaml('config/worker.yaml',\n",
    "                                port=scheduler_port,\n",
    "                                env={'DASK_SCHEDULER_ADDRESS': scheduler_address})"
   ]
  },
  {
   "cell_type": "code",
   "execution_count": null,
   "metadata": {
    "collapsed": true
   },
   "outputs": [],
   "source": [
    "cluster.scheduler_address"
   ]
  },
  {
   "cell_type": "code",
   "execution_count": null,
   "metadata": {
    "collapsed": true
   },
   "outputs": [],
   "source": [
    "cluster.scale(2)"
   ]
  },
  {
   "cell_type": "code",
   "execution_count": null,
   "metadata": {
    "collapsed": true
   },
   "outputs": [],
   "source": [
    "from dask.distributed import Client\n",
    "client = Client(cluster)"
   ]
  },
  {
   "cell_type": "code",
   "execution_count": null,
   "metadata": {
    "collapsed": true
   },
   "outputs": [],
   "source": [
    "from operator import add\n",
    "answer = client.get({'x': (add, 1, 2)}, 'x')\n",
    "print(\"the answer is:\", answer)"
   ]
  }
 ],
 "metadata": {
  "kernelspec": {
   "display_name": "Python [default]",
   "language": "python",
   "name": "python3"
  },
  "language_info": {
   "codemirror_mode": {
    "name": "ipython",
    "version": 3
   },
   "file_extension": ".py",
   "mimetype": "text/x-python",
   "name": "python",
   "nbconvert_exporter": "python",
   "pygments_lexer": "ipython3",
   "version": "3.6.3"
  }
 },
 "nbformat": 4,
 "nbformat_minor": 2
}
