{
 "cells": [
  {
   "cell_type": "markdown",
   "metadata": {},
   "source": [
    "# Distributed FWI with Devito using Tensorflow and Dask"
   ]
  },
  {
   "cell_type": "markdown",
   "metadata": {},
   "source": [
    "## Inversion Computational Setup"
   ]
  },
  {
   "cell_type": "markdown",
   "metadata": {},
   "source": [
    "### Accessing Google Cloud Storage"
   ]
  },
  {
   "cell_type": "code",
   "execution_count": 1,
   "metadata": {},
   "outputs": [
    {
     "name": "stdout",
     "output_type": "stream",
     "text": [
      "Bucket fwi-data created\n"
     ]
    }
   ],
   "source": [
    "import cloudpickle as pickle\n",
    "from google.cloud import storage\n",
    "\n",
    "saved_true_model_file = \"true_model\"\n",
    "saved_smooth_model_file = \"smooth_model\"\n",
    "saved_shot_data_file_prefix = \"shot\"\n",
    "bucket_name = \"fwi-data\"\n",
    "\n",
    "\n",
    "def create_bucket(bucket_name=bucket_name):\n",
    "    \"\"\"Creates a new bucket.\"\"\"\n",
    "    storage_client = storage.Client()\n",
    "    bucket = storage_client.lookup_bucket(bucket_name)\n",
    "    if not bucket: \n",
    "        bucket = storage_client.create_bucket(bucket_name)\n",
    "    print('Bucket {} created'.format(bucket.name))\n",
    "    \n",
    "def delete_bucket(bucket_name=bucket_name):\n",
    "    \"\"\"Deletes a bucket. The bucket must be empty.\"\"\"\n",
    "    storage_client = storage.Client()\n",
    "    bucket = storage_client.get_bucket(bucket_name)\n",
    "    if bucket: \n",
    "        bucket.delete()\n",
    "    print('Bucket {} deleted'.format(bucket.name))\n",
    "\n",
    "def upload_blob(bucket_name, source_file_name, destination_blob_name):\n",
    "    \"\"\"Uploads a file to the bucket.\"\"\"\n",
    "    storage_client = storage.Client()\n",
    "    bucket = storage_client.get_bucket(bucket_name)\n",
    "    blob = bucket.blob(destination_blob_name)\n",
    "\n",
    "    blob.upload_from_filename(source_file_name)\n",
    "\n",
    "    print('File {} uploaded to {}.'.format(\n",
    "        source_file_name,\n",
    "        destination_blob_name))\n",
    "    \n",
    "def download_blob(bucket_name, source_blob_name, destination_file_name):\n",
    "    \"\"\"Downloads a blob from the bucket.\"\"\"\n",
    "    storage_client = storage.Client()\n",
    "    bucket = storage_client.get_bucket(bucket_name)\n",
    "    blob = bucket.blob(source_blob_name)\n",
    "\n",
    "    blob.download_to_filename(destination_file_name)\n",
    "\n",
    "    print('Blob {} downloaded to {}.'.format(\n",
    "        source_blob_name,\n",
    "        destination_file_name))\n",
    "\n",
    "def dump_model(model, file_name):\n",
    "    pickle.dump(model, open(file_name, 'wb'))\n",
    "\n",
    "\n",
    "def get_model(file_name):\n",
    "    return pickle.load(open(file_name, \"rb\"))\n",
    "        \n",
    "\n",
    "def dump_shot_data(file_name, shot_id, src, true_data):\n",
    "    pickle.dump({'src': src, 'rec': true_data}, open(file_name, 'wb'))\n",
    "\n",
    "\n",
    "def get_shot_data(file_name, shot_id, dt):\n",
    "    shot_data = pickle.load(open(file_name, 'rb'))\n",
    "    shot_data['src'] = shot_data['src'].resample(dt)\n",
    "    shot_data['rec'] = shot_data['rec'].resample(dt)\n",
    "    return shot_data\n",
    "\n",
    "\n",
    "def upload_model_to_gcloud(model, model_file):\n",
    "    dump_model(model, model_file)\n",
    "    upload_blob(bucket_name, model_file, model_file)\n",
    "\n",
    "    \n",
    "def download_model_from_gcloud(model_file):\n",
    "    download_blob(bucket_name, model_file, model_file)\n",
    "    return get_model(model_file)\n",
    "\n",
    "\n",
    "def upload_shot_to_gcloud(shot_id, src, true_data):\n",
    "    file_name = '{}_{}'.format(saved_shot_data_file_prefix, shot_id)\n",
    "    dump_shot_data(file_name, shot_id, src, true_data)\n",
    "    upload_blob(bucket_name, file_name, file_name)\n",
    "\n",
    "    \n",
    "def download_shot_from_gcloud(shot_id, dt):\n",
    "    file_name = '{}_{}'.format(saved_shot_data_file_prefix, shot_id)\n",
    "    download_blob(bucket_name, file_name, file_name)\n",
    "    return get_shot_data(file_name, shot_id, dt)\n",
    "\n",
    "create_bucket()"
   ]
  },
  {
   "cell_type": "markdown",
   "metadata": {},
   "source": [
    "### Setting up (synthetic) data"
   ]
  },
  {
   "cell_type": "code",
   "execution_count": 2,
   "metadata": {},
   "outputs": [],
   "source": [
    "from examples.seismic import TimeAxis, RickerSource, Receiver\n",
    "from examples.seismic.acoustic import AcousticWaveSolver\n",
    "\n",
    "def generate_shot_data(t0, tn, f0, shots, receivers, client):\n",
    "    params = [t0, tn, f0, shots, receivers]\n",
    "    work = [params + [shot_id] for shot_id in range(shots)]\n",
    "\n",
    "    fgi = [client.submit(generate_shot_data_i, *job) for job in work]\n",
    "\n",
    "    wait(fgi)\n",
    "\n",
    "\n",
    "def generate_shot_data_i(t0, tn, f0, shots, receivers, shot_id):\n",
    "    true_model = download_model_from_gcloud(saved_true_model_file)\n",
    "\n",
    "    # Time step from model grid spacing\n",
    "    dt = true_model.critical_dt\n",
    "\n",
    "    # Acquisitional Geometry\n",
    "    time_range = TimeAxis(start=t0, stop=tn, step=dt)\n",
    "    src = RickerSource(name=\"src\", grid=true_model.grid, f0=f0,\n",
    "                       time_range=time_range)\n",
    "    \n",
    "    src.coordinates.data[0, :] = [30, shot_id*1000./(shots-1)]\n",
    "    \n",
    "    rec = Receiver(name=\"rec\", grid=true_model.grid, time_range=time_range,\n",
    "                   npoint=receivers)\n",
    "    rec.coordinates.data[:, 1] = np.linspace(0, true_model.domain_size[0],\n",
    "                                             num=receivers)\n",
    "    rec.coordinates.data[:, 0] = 980.  # 20m from the right end\n",
    "\n",
    "    # set up solver\n",
    "    solver = AcousticWaveSolver(true_model, src, rec, space_order=4)\n",
    "\n",
    "    # generate synthetic receiver data from true model\n",
    "    true_data, _, _ = solver.forward(src=src, m=true_model.m)\n",
    "    \n",
    "    upload_shot_to_gcloud(shot_id, src, true_data)  "
   ]
  },
  {
   "cell_type": "markdown",
   "metadata": {},
   "source": [
    "### Computational Consideration"
   ]
  },
  {
   "cell_type": "code",
   "execution_count": 3,
   "metadata": {},
   "outputs": [],
   "source": [
    "shape = (101, 101)\n",
    "spacing = (10., 10.)\n",
    "origin = (0., 0.)\n",
    "\n",
    "shots = 9\n",
    "receivers = 101\n",
    "epochs = 5\n",
    "\n",
    "t0 = 0.\n",
    "tn = 1000.\n",
    "f0 = 0.01"
   ]
  },
  {
   "cell_type": "markdown",
   "metadata": {},
   "source": [
    "### True and Smooth Models"
   ]
  },
  {
   "cell_type": "code",
   "execution_count": 4,
   "metadata": {},
   "outputs": [
    {
     "data": {
      "image/png": "[encoded data removed]",
      "text/plain": [
       "<Figure size 432x288 with 2 Axes>"
      ]
     },
     "metadata": {
      "needs_background": "light"
     },
     "output_type": "display_data"
    },
    {
     "data": {
      "image/png": "[encoded data removed]",
      "text/plain": [
       "<Figure size 432x288 with 2 Axes>"
      ]
     },
     "metadata": {
      "needs_background": "light"
     },
     "output_type": "display_data"
    }
   ],
   "source": [
    "from examples.seismic import demo_model, plot_velocity\n",
    "from devito import configuration\n",
    "from distributed import Client, LocalCluster, wait\n",
    "\n",
    "configuration['log_level'] = 'WARNING'\n",
    "\n",
    "true_model = demo_model('circle-isotropic', vp=3.0, vp_background=2.5,\n",
    "                        origin=origin, shape=shape, spacing=spacing, nbpml=40)\n",
    "\n",
    "smooth_model = demo_model('circle-isotropic', vp=2.5, vp_background=2.5,\n",
    "                          origin=origin, shape=shape, spacing=spacing, nbpml=40)\n",
    "\n",
    "plot_velocity(true_model)\n",
    "plot_velocity(smooth_model)"
   ]
  },
  {
   "cell_type": "markdown",
   "metadata": {},
   "source": [
    "## Dask Specifics"
   ]
  },
  {
   "cell_type": "code",
   "execution_count": 5,
   "metadata": {},
   "outputs": [],
   "source": [
    "class fg_pair:\n",
    "    def __init__(self, f, g):\n",
    "        self.f = f\n",
    "        self.g = g\n",
    "\n",
    "    def __add__(self, other):\n",
    "        f = self.f + other.f\n",
    "        g = self.g + other.g\n",
    "        return fg_pair(f, g)\n",
    "\n",
    "    def __radd__(self, other):\n",
    "        if other == 0:\n",
    "            return self\n",
    "        else:\n",
    "            return self.__add__(other)"
   ]
  },
  {
   "cell_type": "markdown",
   "metadata": {},
   "source": [
    "## Dask-Kubernetes Specifics"
   ]
  },
  {
   "cell_type": "code",
   "execution_count": 6,
   "metadata": {},
   "outputs": [],
   "source": [
    "from socket import gethostname, gethostbyname\n",
    "\n",
    "def get_scheduler_info(scheduler_port=30000):\n",
    "    scheduler_ip = gethostbyname(gethostname())\n",
    "    scheduler_addr = str(scheduler_ip) + \":\" + str(scheduler_port)\n",
    "    return [scheduler_addr, scheduler_port]"
   ]
  },
  {
   "cell_type": "markdown",
   "metadata": {},
   "source": [
    "## Operators for gradient based inversion"
   ]
  },
  {
   "cell_type": "code",
   "execution_count": 7,
   "metadata": {},
   "outputs": [],
   "source": [
    "from devito import Function\n",
    "\n",
    "def fwi_gradient_i(shot_id):\n",
    "    from devito import clear_cache\n",
    "    \n",
    "    clear_cache()\n",
    "\n",
    "    smooth_model = download_model_from_gcloud(saved_smooth_model_file)\n",
    "\n",
    "    params = download_shot_from_gcloud(shot_id, smooth_model.critical_dt)\n",
    "    src = params['src']\n",
    "    rec = params['rec']\n",
    "    \n",
    "    solver = AcousticWaveSolver(smooth_model, src, rec, space_order=4)\n",
    "\n",
    "    smooth_data, u0, _ = solver.forward(src=src, m=smooth_model.m, save=True)\n",
    "\n",
    "    residual = Receiver(name='rec', grid=smooth_model.grid,\n",
    "                        time_range=rec.time_range,\n",
    "                        coordinates=rec.coordinates.data)\n",
    "\n",
    "    residual.data[:] = smooth_data.data[:] - rec.data[:]\n",
    "\n",
    "    f = .5*np.linalg.norm(residual.data.flatten())**2\n",
    "\n",
    "    grad = Function(name=\"grad\", grid=smooth_model.grid)\n",
    "    solver.gradient(rec=residual, u=u0, m=smooth_model.m, grad=grad)\n",
    "\n",
    "    g = np.array(grad.data[:])\n",
    "\n",
    "    return fg_pair(f, g)"
   ]
  },
  {
   "cell_type": "code",
   "execution_count": 8,
   "metadata": {},
   "outputs": [],
   "source": [
    "def fwi_gradient(client, smooth_model, shots):\n",
    "    upload_model_to_gcloud(smooth_model, saved_smooth_model_file)\n",
    "\n",
    "    # Distribute job to workers - equivalent to the use of client.map(..)\n",
    "    fgi = [client.submit(fwi_gradient_i, shot_id) for shot_id in range(shots)]\n",
    "\n",
    "    # Distribute worklist to workers\n",
    "    total = client.submit(sum, fgi)\n",
    "    fg = total.result()\n",
    "\n",
    "    return fg.f, fg.g"
   ]
  },
  {
   "cell_type": "markdown",
   "metadata": {},
   "source": [
    "## FWI with Tensorflow"
   ]
  },
  {
   "cell_type": "code",
   "execution_count": 9,
   "metadata": {},
   "outputs": [],
   "source": [
    "import tensorflow as tf\n",
    "import numpy as np\n",
    "import functools as ft\n",
    "from dask.distributed import Client, LocalCluster, wait\n",
    "from dask_kubernetes import KubeCluster, make_pod_spec\n",
    "from examples.seismic import plot_velocity, plot_perturbation\n",
    "\n",
    "class TF_Devito_Fwi:\n",
    "\n",
    "    def __init__(self, nshots, nreceivers, true_model, smooth_model, t0, tn, f0,\n",
    "                 optimizer_func, hparams, scheduler_addr, scheduler_port, workers=1):\n",
    "        # True and Smooth velocity models\n",
    "        upload_model_to_gcloud(true_model, saved_true_model_file)\n",
    "        self.smooth_model = smooth_model\n",
    "        true_data = true_model.m.data\n",
    "        \n",
    "        # Cluster setup\n",
    "        cluster = KubeCluster.from_yaml('config/worker.yaml',\n",
    "                                        port=scheduler_port,\n",
    "                                        env={'DASK_SCHEDULER_ADDRESS': scheduler_addr})       \n",
    "        cluster.scale(workers)\n",
    "        client = Client(cluster)\n",
    "        self.client = client\n",
    "        \n",
    "        # Generating shot data and uploading to gcloud\n",
    "        generate_shot_data(t0, tn, f0, nshots, nreceivers, client)\n",
    "\n",
    "        # Create the tf graph\n",
    "        self.sess = tf.Session() # Session \n",
    "        \n",
    "        with tf.name_scope(\"Input\"):\n",
    "            self.smooth_data = tf.Variable(self.smooth_model.m.data)\n",
    "            tf.summary.histogram('smooth_model', self.smooth_data)\n",
    "        \n",
    "        fwi_gradient_call = ft.partial(fwi_gradient, client, smooth_model, nshots)\n",
    "        with tf.name_scope(\"Gradient_and_Functional\"):\n",
    "            f, g = tf.py_func(fwi_gradient_call, [], [tf.float64, tf.float32])\n",
    "            tf.summary.scalar(\"functional\", f)\n",
    "        \n",
    "        with tf.name_scope(\"SGD\"):\n",
    "            if 'learning_rate' in list(hparams.keys()):\n",
    "                alpha = hparams['learning_rate']\n",
    "            else: \n",
    "                alpha = 0.005 / tf.reduce_max(g)\n",
    "            optimizer = optimizer_func(alpha, **hparams)\n",
    "            self.train_op = optimizer.apply_gradients([(g, self.smooth_data)])\n",
    "        \n",
    "        with tf.name_scope(\"Relative_Error\"):\n",
    "            self.relative_error = tf.norm((self.smooth_data-true_data)/true_data)\n",
    "            tf.summary.scalar(\"relative_error\", self.relative_error)\n",
    "        \n",
    "        self.sess.run(tf.global_variables_initializer())\n",
    "        self.merged_summary_op = tf.summary.merge_all()\n",
    "    \n",
    "    def train(self, epochs):\n",
    "        summary_writer = tf.summary.FileWriter('./logs/', self.sess.graph)\n",
    "        \n",
    "        for i in range(0, epochs):\n",
    "            _, re, summary = self.sess.run([self.train_op, self.relative_error, self.merged_summary_op])\n",
    "            summary_writer.add_summary(summary, i)\n",
    "            yield re\n",
    "            \n",
    "        self.smooth_model.m.data[:] = self.smooth_data.eval(session=self.sess)"
   ]
  },
  {
   "cell_type": "markdown",
   "metadata": {},
   "source": [
    "### Initialise Dask Distributed Scheduler for FWI"
   ]
  },
  {
   "cell_type": "code",
   "execution_count": 10,
   "metadata": {
    "scrolled": true
   },
   "outputs": [
    {
     "name": "stdout",
     "output_type": "stream",
     "text": [
      "File true_model uploaded to true_model.\n"
     ]
    },
    {
     "data": {
      "text/html": [
       "<table style=\"border: 2px solid white;\">\n",
       "<tr>\n",
       "<td style=\"vertical-align: top; border: 0px solid white\">\n",
       "<h3>Client</h3>\n",
       "<ul>\n",
       "  <li><b>Scheduler: </b>tcp://10.8.2.22:30000\n",
       "  <li><b>Dashboard: </b><a href='http://10.8.2.22:8787/status' target='_blank'>http://10.8.2.22:8787/status</a>\n",
       "</ul>\n",
       "</td>\n",
       "<td style=\"vertical-align: top; border: 0px solid white\">\n",
       "<h3>Cluster</h3>\n",
       "<ul>\n",
       "  <li><b>Workers: </b>9</li>\n",
       "  <li><b>Cores: </b>9</li>\n",
       "  <li><b>Memory: </b>18.00 GB</li>\n",
       "</ul>\n",
       "</td>\n",
       "</tr>\n",
       "</table>"
      ],
      "text/plain": [
       "<Client: scheduler='tcp://10.8.2.22:30000' processes=9 cores=9>"
      ]
     },
     "execution_count": 10,
     "metadata": {},
     "output_type": "execute_result"
    }
   ],
   "source": [
    "optimizer = tf.train.MomentumOptimizer\n",
    "\n",
    "hparam = {'momentum': 0.4, 'use_nesterov': True}\n",
    "\n",
    "scheduler_addr, scheduler_port = get_scheduler_info()\n",
    "\n",
    "fwi = TF_Devito_Fwi(shots, receivers, true_model, smooth_model, t0, tn, f0,\n",
    "                    optimizer, hparam, scheduler_addr, scheduler_port, shots)\n",
    "\n",
    "fwi.client"
   ]
  },
  {
   "cell_type": "markdown",
   "metadata": {},
   "source": [
    "### Dask Statistics Visualisation"
   ]
  },
  {
   "cell_type": "code",
   "execution_count": 14,
   "metadata": {},
   "outputs": [
    {
     "name": "stdout",
     "output_type": "stream",
     "text": [
      "<iframe src='http://35.192.115.88:8787/status' height=800 width=100%></iframe>\n"
     ]
    }
   ],
   "source": [
    "%%bash\n",
    "kubectl get svc | grep svc-notebooks | awk '{printf $4 \":8787/status\"}' | \\\n",
    "xargs -I ip echo \"<iframe src='http://ip' height=\"800\" width=\"100%\"></iframe>\" > dask_iframe\n",
    "cat dask_iframe"
   ]
  },
  {
   "cell_type": "code",
   "execution_count": 15,
   "metadata": {
    "scrolled": true
   },
   "outputs": [
    {
     "data": {
      "text/html": [
       "<iframe src='http://35.192.115.88:8787/status' height=800 width=100%></iframe>\n"
      ],
      "text/plain": [
       "<IPython.core.display.HTML object>"
      ]
     },
     "metadata": {},
     "output_type": "display_data"
    }
   ],
   "source": [
    "from IPython.core.display import display, HTML\n",
    "display(HTML(filename=\"dask_iframe\"))"
   ]
  },
  {
   "cell_type": "markdown",
   "metadata": {},
   "source": [
    "### Running Tensorflow Graph"
   ]
  },
  {
   "cell_type": "code",
   "execution_count": 16,
   "metadata": {},
   "outputs": [
    {
     "name": "stdout",
     "output_type": "stream",
     "text": [
      "File smooth_model uploaded to smooth_model.\n",
      "Epoch: 0, Relative Losses: 11.77359390258789\n",
      "File smooth_model uploaded to smooth_model.\n",
      "Epoch: 1, Relative Losses: 10.579763412475586\n",
      "File smooth_model uploaded to smooth_model.\n",
      "Epoch: 2, Relative Losses: 9.427884101867676\n",
      "File smooth_model uploaded to smooth_model.\n",
      "Epoch: 3, Relative Losses: 8.507863998413086\n",
      "File smooth_model uploaded to smooth_model.\n",
      "Epoch: 4, Relative Losses: 7.965253829956055\n"
     ]
    }
   ],
   "source": [
    "relative_losses = np.zeros((epochs, 1))\n",
    "\n",
    "for i, rl in enumerate(fwi.train(epochs)):\n",
    "    print(\"Epoch: {}, Relative Losses: {}\".format(i, rl))\n",
    "    relative_losses[i] = rl"
   ]
  },
  {
   "cell_type": "markdown",
   "metadata": {},
   "source": [
    "### Final Model"
   ]
  },
  {
   "cell_type": "code",
   "execution_count": 17,
   "metadata": {},
   "outputs": [
    {
     "data": {
      "image/png": "[encoded data removed]",
      "text/plain": [
       "<Figure size 432x288 with 2 Axes>"
      ]
     },
     "metadata": {
      "needs_background": "light"
     },
     "output_type": "display_data"
    }
   ],
   "source": [
    "nbpml = true_model.nbpml\n",
    "fwi.smooth_model.vp = np.sqrt(1. / smooth_model.m.data[nbpml:-nbpml, nbpml:-nbpml])\n",
    "\n",
    "plot_velocity(fwi.smooth_model)"
   ]
  },
  {
   "cell_type": "markdown",
   "metadata": {},
   "source": [
    "### Convergence of Losses"
   ]
  },
  {
   "cell_type": "code",
   "execution_count": 18,
   "metadata": {},
   "outputs": [
    {
     "data": {
      "image/png": "[encoded data removed]",
      "text/plain": [
       "<Figure size 432x288 with 1 Axes>"
      ]
     },
     "metadata": {
      "needs_background": "light"
     },
     "output_type": "display_data"
    }
   ],
   "source": [
    "#NBVAL_SKIP\n",
    "import matplotlib.pyplot as plt\n",
    "\n",
    "# Plot objective function decrease\n",
    "plt.figure()\n",
    "plt.loglog(relative_losses)\n",
    "plt.xlabel('Iteration number')\n",
    "plt.ylabel('True relative error')\n",
    "plt.title('Convergence')\n",
    "plt.show()"
   ]
  },
  {
   "cell_type": "markdown",
   "metadata": {},
   "source": [
    "### Tensorboard"
   ]
  },
  {
   "cell_type": "code",
   "execution_count": 4,
   "metadata": {
    "scrolled": true
   },
   "outputs": [
    {
     "name": "stdout",
     "output_type": "stream",
     "text": [
      "logs dir present\n"
     ]
    }
   ],
   "source": [
    "%%bash\n",
    "[[ -z \"$(ls logs)\" ]] && echo \"Execute the graph above\" || echo \"logs dir present\" "
   ]
  },
  {
   "cell_type": "markdown",
   "metadata": {},
   "source": [
    "Run the cell and then stop it running by pressing the stop button in the toolbar above. "
   ]
  },
  {
   "cell_type": "code",
   "execution_count": 13,
   "metadata": {},
   "outputs": [
    {
     "name": "stderr",
     "output_type": "stream",
     "text": [
      "W1012 21:53:12.124647 Reloader tf_logging.py:120] Found more than one graph event per run, or there was a metagraph containing a graph_def, as well as one or more graph events.  Overwriting the graph with the newest event.\n",
      "W1012 21:53:12.124647 140288466212608 tf_logging.py:120] Found more than one graph event per run, or there was a metagraph containing a graph_def, as well as one or more graph events.  Overwriting the graph with the newest event.\n",
      "W1012 21:53:12.126203 Reloader tf_logging.py:120] Found more than one metagraph event per run. Overwriting the metagraph with the newest event.\n",
      "W1012 21:53:12.126203 140288466212608 tf_logging.py:120] Found more than one metagraph event per run. Overwriting the metagraph with the newest event.\n",
      "W1012 21:53:12.148683 Reloader tf_logging.py:120] Found more than one graph event per run, or there was a metagraph containing a graph_def, as well as one or more graph events.  Overwriting the graph with the newest event.\n",
      "W1012 21:53:12.148683 140288466212608 tf_logging.py:120] Found more than one graph event per run, or there was a metagraph containing a graph_def, as well as one or more graph events.  Overwriting the graph with the newest event.\n",
      "W1012 21:53:12.149825 Reloader tf_logging.py:120] Found more than one metagraph event per run. Overwriting the metagraph with the newest event.\n",
      "W1012 21:53:12.149825 140288466212608 tf_logging.py:120] Found more than one metagraph event per run. Overwriting the metagraph with the newest event.\n",
      "W1012 21:53:12.171202 Reloader tf_logging.py:120] Found more than one graph event per run, or there was a metagraph containing a graph_def, as well as one or more graph events.  Overwriting the graph with the newest event.\n",
      "W1012 21:53:12.171201 140288466212608 tf_logging.py:120] Found more than one graph event per run, or there was a metagraph containing a graph_def, as well as one or more graph events.  Overwriting the graph with the newest event.\n",
      "W1012 21:53:12.171781 Reloader tf_logging.py:120] Found more than one metagraph event per run. Overwriting the metagraph with the newest event.\n",
      "W1012 21:53:12.171781 140288466212608 tf_logging.py:120] Found more than one metagraph event per run. Overwriting the metagraph with the newest event.\n",
      "W1012 21:53:12.182087 Reloader tf_logging.py:120] Found more than one graph event per run, or there was a metagraph containing a graph_def, as well as one or more graph events.  Overwriting the graph with the newest event.\n",
      "W1012 21:53:12.182086 140288466212608 tf_logging.py:120] Found more than one graph event per run, or there was a metagraph containing a graph_def, as well as one or more graph events.  Overwriting the graph with the newest event.\n",
      "W1012 21:53:12.182579 Reloader tf_logging.py:120] Found more than one metagraph event per run. Overwriting the metagraph with the newest event.\n",
      "W1012 21:53:12.182579 140288466212608 tf_logging.py:120] Found more than one metagraph event per run. Overwriting the metagraph with the newest event.\n",
      "W1012 21:53:12.193635 Reloader tf_logging.py:120] Found more than one graph event per run, or there was a metagraph containing a graph_def, as well as one or more graph events.  Overwriting the graph with the newest event.\n",
      "W1012 21:53:12.193634 140288466212608 tf_logging.py:120] Found more than one graph event per run, or there was a metagraph containing a graph_def, as well as one or more graph events.  Overwriting the graph with the newest event.\n",
      "W1012 21:53:12.194822 Reloader tf_logging.py:120] Found more than one metagraph event per run. Overwriting the metagraph with the newest event.\n",
      "W1012 21:53:12.194822 140288466212608 tf_logging.py:120] Found more than one metagraph event per run. Overwriting the metagraph with the newest event.\n",
      "W1012 21:53:12.215764 Reloader tf_logging.py:120] Found more than one graph event per run, or there was a metagraph containing a graph_def, as well as one or more graph events.  Overwriting the graph with the newest event.\n",
      "W1012 21:53:12.215764 140288466212608 tf_logging.py:120] Found more than one graph event per run, or there was a metagraph containing a graph_def, as well as one or more graph events.  Overwriting the graph with the newest event.\n",
      "W1012 21:53:12.217144 Reloader tf_logging.py:120] Found more than one metagraph event per run. Overwriting the metagraph with the newest event.\n",
      "W1012 21:53:12.217144 140288466212608 tf_logging.py:120] Found more than one metagraph event per run. Overwriting the metagraph with the newest event.\n",
      "W1012 21:53:12.228401 Reloader tf_logging.py:120] Found more than one graph event per run, or there was a metagraph containing a graph_def, as well as one or more graph events.  Overwriting the graph with the newest event.\n",
      "W1012 21:53:12.228401 140288466212608 tf_logging.py:120] Found more than one graph event per run, or there was a metagraph containing a graph_def, as well as one or more graph events.  Overwriting the graph with the newest event.\n",
      "W1012 21:53:12.229307 Reloader tf_logging.py:120] Found more than one metagraph event per run. Overwriting the metagraph with the newest event.\n",
      "W1012 21:53:12.229307 140288466212608 tf_logging.py:120] Found more than one metagraph event per run. Overwriting the metagraph with the newest event.\n",
      "E1012 21:53:12.267343 MainThread program.py:201] TensorBoard could not bind to port 8889, it was already in use\n",
      "E1012 21:53:12.267343 140288565806848 program.py:201] TensorBoard could not bind to port 8889, it was already in use\n",
      "ERROR: TensorBoard could not bind to port 8889, it was already in use\n"
     ]
    },
    {
     "ename": "CalledProcessError",
     "evalue": "Command 'b'tensorboard --logdir=./logs --port=8889\\n'' returned non-zero exit status 255.",
     "output_type": "error",
     "traceback": [
      "\u001b[0;31m---------------------------------------------------------------------------\u001b[0m",
      "\u001b[0;31mCalledProcessError\u001b[0m                        Traceback (most recent call last)",
      "\u001b[0;32m<ipython-input-13-0578553439b0>\u001b[0m in \u001b[0;36m<module>\u001b[0;34m\u001b[0m\n\u001b[0;32m----> 1\u001b[0;31m \u001b[0mget_ipython\u001b[0m\u001b[0;34m(\u001b[0m\u001b[0;34m)\u001b[0m\u001b[0;34m.\u001b[0m\u001b[0mrun_cell_magic\u001b[0m\u001b[0;34m(\u001b[0m\u001b[0;34m'bash'\u001b[0m\u001b[0;34m,\u001b[0m \u001b[0;34m''\u001b[0m\u001b[0;34m,\u001b[0m \u001b[0;34m'tensorboard --logdir=./logs --port=8889\\n'\u001b[0m\u001b[0;34m)\u001b[0m\u001b[0;34m\u001b[0m\u001b[0m\n\u001b[0m",
      "\u001b[0;32m/venv/lib/python3.6/site-packages/IPython/core/interactiveshell.py\u001b[0m in \u001b[0;36mrun_cell_magic\u001b[0;34m(self, magic_name, line, cell)\u001b[0m\n\u001b[1;32m   2319\u001b[0m             \u001b[0mmagic_arg_s\u001b[0m \u001b[0;34m=\u001b[0m \u001b[0mself\u001b[0m\u001b[0;34m.\u001b[0m\u001b[0mvar_expand\u001b[0m\u001b[0;34m(\u001b[0m\u001b[0mline\u001b[0m\u001b[0;34m,\u001b[0m \u001b[0mstack_depth\u001b[0m\u001b[0;34m)\u001b[0m\u001b[0;34m\u001b[0m\u001b[0m\n\u001b[1;32m   2320\u001b[0m             \u001b[0;32mwith\u001b[0m \u001b[0mself\u001b[0m\u001b[0;34m.\u001b[0m\u001b[0mbuiltin_trap\u001b[0m\u001b[0;34m:\u001b[0m\u001b[0;34m\u001b[0m\u001b[0m\n\u001b[0;32m-> 2321\u001b[0;31m                 \u001b[0mresult\u001b[0m \u001b[0;34m=\u001b[0m \u001b[0mfn\u001b[0m\u001b[0;34m(\u001b[0m\u001b[0mmagic_arg_s\u001b[0m\u001b[0;34m,\u001b[0m \u001b[0mcell\u001b[0m\u001b[0;34m)\u001b[0m\u001b[0;34m\u001b[0m\u001b[0m\n\u001b[0m\u001b[1;32m   2322\u001b[0m             \u001b[0;32mreturn\u001b[0m \u001b[0mresult\u001b[0m\u001b[0;34m\u001b[0m\u001b[0m\n\u001b[1;32m   2323\u001b[0m \u001b[0;34m\u001b[0m\u001b[0m\n",
      "\u001b[0;32m/venv/lib/python3.6/site-packages/IPython/core/magics/script.py\u001b[0m in \u001b[0;36mnamed_script_magic\u001b[0;34m(line, cell)\u001b[0m\n\u001b[1;32m    140\u001b[0m             \u001b[0;32melse\u001b[0m\u001b[0;34m:\u001b[0m\u001b[0;34m\u001b[0m\u001b[0m\n\u001b[1;32m    141\u001b[0m                 \u001b[0mline\u001b[0m \u001b[0;34m=\u001b[0m \u001b[0mscript\u001b[0m\u001b[0;34m\u001b[0m\u001b[0m\n\u001b[0;32m--> 142\u001b[0;31m             \u001b[0;32mreturn\u001b[0m \u001b[0mself\u001b[0m\u001b[0;34m.\u001b[0m\u001b[0mshebang\u001b[0m\u001b[0;34m(\u001b[0m\u001b[0mline\u001b[0m\u001b[0;34m,\u001b[0m \u001b[0mcell\u001b[0m\u001b[0;34m)\u001b[0m\u001b[0;34m\u001b[0m\u001b[0m\n\u001b[0m\u001b[1;32m    143\u001b[0m \u001b[0;34m\u001b[0m\u001b[0m\n\u001b[1;32m    144\u001b[0m         \u001b[0;31m# write a basic docstring:\u001b[0m\u001b[0;34m\u001b[0m\u001b[0;34m\u001b[0m\u001b[0m\n",
      "\u001b[0;32m<decorator-gen-109>\u001b[0m in \u001b[0;36mshebang\u001b[0;34m(self, line, cell)\u001b[0m\n",
      "\u001b[0;32m/venv/lib/python3.6/site-packages/IPython/core/magic.py\u001b[0m in \u001b[0;36m<lambda>\u001b[0;34m(f, *a, **k)\u001b[0m\n\u001b[1;32m    185\u001b[0m     \u001b[0;31m# but it's overkill for just that one bit of state.\u001b[0m\u001b[0;34m\u001b[0m\u001b[0;34m\u001b[0m\u001b[0m\n\u001b[1;32m    186\u001b[0m     \u001b[0;32mdef\u001b[0m \u001b[0mmagic_deco\u001b[0m\u001b[0;34m(\u001b[0m\u001b[0marg\u001b[0m\u001b[0;34m)\u001b[0m\u001b[0;34m:\u001b[0m\u001b[0;34m\u001b[0m\u001b[0m\n\u001b[0;32m--> 187\u001b[0;31m         \u001b[0mcall\u001b[0m \u001b[0;34m=\u001b[0m \u001b[0;32mlambda\u001b[0m \u001b[0mf\u001b[0m\u001b[0;34m,\u001b[0m \u001b[0;34m*\u001b[0m\u001b[0ma\u001b[0m\u001b[0;34m,\u001b[0m \u001b[0;34m**\u001b[0m\u001b[0mk\u001b[0m\u001b[0;34m:\u001b[0m \u001b[0mf\u001b[0m\u001b[0;34m(\u001b[0m\u001b[0;34m*\u001b[0m\u001b[0ma\u001b[0m\u001b[0;34m,\u001b[0m \u001b[0;34m**\u001b[0m\u001b[0mk\u001b[0m\u001b[0;34m)\u001b[0m\u001b[0;34m\u001b[0m\u001b[0m\n\u001b[0m\u001b[1;32m    188\u001b[0m \u001b[0;34m\u001b[0m\u001b[0m\n\u001b[1;32m    189\u001b[0m         \u001b[0;32mif\u001b[0m \u001b[0mcallable\u001b[0m\u001b[0;34m(\u001b[0m\u001b[0marg\u001b[0m\u001b[0;34m)\u001b[0m\u001b[0;34m:\u001b[0m\u001b[0;34m\u001b[0m\u001b[0m\n",
      "\u001b[0;32m/venv/lib/python3.6/site-packages/IPython/core/magics/script.py\u001b[0m in \u001b[0;36mshebang\u001b[0;34m(self, line, cell)\u001b[0m\n\u001b[1;32m    243\u001b[0m             \u001b[0msys\u001b[0m\u001b[0;34m.\u001b[0m\u001b[0mstderr\u001b[0m\u001b[0;34m.\u001b[0m\u001b[0mflush\u001b[0m\u001b[0;34m(\u001b[0m\u001b[0;34m)\u001b[0m\u001b[0;34m\u001b[0m\u001b[0m\n\u001b[1;32m    244\u001b[0m         \u001b[0;32mif\u001b[0m \u001b[0margs\u001b[0m\u001b[0;34m.\u001b[0m\u001b[0mraise_error\u001b[0m \u001b[0;32mand\u001b[0m \u001b[0mp\u001b[0m\u001b[0;34m.\u001b[0m\u001b[0mreturncode\u001b[0m\u001b[0;34m!=\u001b[0m\u001b[0;36m0\u001b[0m\u001b[0;34m:\u001b[0m\u001b[0;34m\u001b[0m\u001b[0m\n\u001b[0;32m--> 245\u001b[0;31m             \u001b[0;32mraise\u001b[0m \u001b[0mCalledProcessError\u001b[0m\u001b[0;34m(\u001b[0m\u001b[0mp\u001b[0m\u001b[0;34m.\u001b[0m\u001b[0mreturncode\u001b[0m\u001b[0;34m,\u001b[0m \u001b[0mcell\u001b[0m\u001b[0;34m,\u001b[0m \u001b[0moutput\u001b[0m\u001b[0;34m=\u001b[0m\u001b[0mout\u001b[0m\u001b[0;34m,\u001b[0m \u001b[0mstderr\u001b[0m\u001b[0;34m=\u001b[0m\u001b[0merr\u001b[0m\u001b[0;34m)\u001b[0m\u001b[0;34m\u001b[0m\u001b[0m\n\u001b[0m\u001b[1;32m    246\u001b[0m \u001b[0;34m\u001b[0m\u001b[0m\n\u001b[1;32m    247\u001b[0m     \u001b[0;32mdef\u001b[0m \u001b[0m_run_script\u001b[0m\u001b[0;34m(\u001b[0m\u001b[0mself\u001b[0m\u001b[0;34m,\u001b[0m \u001b[0mp\u001b[0m\u001b[0;34m,\u001b[0m \u001b[0mcell\u001b[0m\u001b[0;34m,\u001b[0m \u001b[0mto_close\u001b[0m\u001b[0;34m)\u001b[0m\u001b[0;34m:\u001b[0m\u001b[0;34m\u001b[0m\u001b[0m\n",
      "\u001b[0;31mCalledProcessError\u001b[0m: Command 'b'tensorboard --logdir=./logs --port=8889\\n'' returned non-zero exit status 255."
     ]
    }
   ],
   "source": [
    "%%bash\n",
    "tensorboard --logdir=./logs --port=8889 # This will fail if it has already been run once."
   ]
  },
  {
   "cell_type": "code",
   "execution_count": 7,
   "metadata": {},
   "outputs": [
    {
     "name": "stdout",
     "output_type": "stream",
     "text": [
      "<iframe src='http://35.192.115.88:8889' height=500 width=100%></iframe>\n"
     ]
    }
   ],
   "source": [
    "%%bash\n",
    "kubectl get svc | grep svc-notebooks | awk '{printf $4 \":8889\"}' | \\\n",
    "xargs -I ip echo \"<iframe src='http://ip' height=\"500\" width=\"100%\"></iframe>\" > tensorboard_iframe\n",
    "cat tensorboard_iframe"
   ]
  },
  {
   "cell_type": "code",
   "execution_count": 14,
   "metadata": {},
   "outputs": [
    {
     "data": {
      "text/html": [
       "<iframe src='http://35.192.115.88:8889' height=500 width=100%></iframe>\n"
      ],
      "text/plain": [
       "<IPython.core.display.HTML object>"
      ]
     },
     "metadata": {},
     "output_type": "display_data"
    }
   ],
   "source": [
    "from IPython.core.display import display, HTML\n",
    "display(HTML(filename=\"tensorboard_iframe\"))"
   ]
  }
 ],
 "metadata": {
  "kernelspec": {
   "display_name": "Python 3",
   "language": "python",
   "name": "python3"
  },
  "language_info": {
   "codemirror_mode": {
    "name": "ipython",
    "version": 3
   },
   "file_extension": ".py",
   "mimetype": "text/x-python",
   "name": "python",
   "nbconvert_exporter": "python",
   "pygments_lexer": "ipython3",
   "version": "3.6.6"
  }
 },
 "nbformat": 4,
 "nbformat_minor": 2
}